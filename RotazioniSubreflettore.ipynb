{
 "metadata": {
  "kernelspec": {
   "codemirror_mode": {
    "name": "ipython",
    "version": 2
   },
   "display_name": "IPython (Python 2)",
   "language": "python",
   "name": "python2"
  },
  "name": "",
  "signature": "sha256:bea1d35ee011d62b4959080703cdb2a7b9fd95c4a08512f17a4944c2a706ebdc"
 },
 "nbformat": 3,
 "nbformat_minor": 0,
 "worksheets": [
  {
   "cells": [
    {
     "cell_type": "code",
     "collapsed": false,
     "input": [
      "%pylab inline\n",
      "from sympy import *\n",
      "from IPython.display import Image\n",
      "init_printing(use_latex=\"mathjax\")"
     ],
     "language": "python",
     "metadata": {},
     "outputs": [
      {
       "output_type": "stream",
       "stream": "stdout",
       "text": [
        "Populating the interactive namespace from numpy and matplotlib\n"
       ]
      },
      {
       "output_type": "stream",
       "stream": "stderr",
       "text": [
        "WARNING: pylab import has clobbered these variables: ['prod', 'Circle', 'power', 'diag', 'sinh', 'trunc', 'binomial', 'plot', 'eye', 'det', 'tan', 'product', 'roots', 'vectorize', 'sin', 'plotting', 'zeros', 'cosh', 'conjugate', 'take', 'solve', 'trace', 'beta', 'ones', 'transpose', 'cos', 'interactive', 'diff', 'invert', 'tanh', 'Polygon', 'reshape', 'sqrt', 'floor', 'source', 'add', 'multinomial', 'test', 'poly', 'mod', 'sign', 'gamma', 'log', 'var', 'seterr', 'flatten', 'nan', 'pi', 'exp']\n",
        "`%matplotlib` prevents importing * from pylab and numpy\n"
       ]
      }
     ],
     "prompt_number": 12
    },
    {
     "cell_type": "heading",
     "level": 1,
     "metadata": {},
     "source": [
      "Rotazione del subreflettore intorno al fuoco"
     ]
    },
    {
     "cell_type": "code",
     "collapsed": false,
     "input": [
      "Image(\"files/rot_sub.png\")"
     ],
     "language": "python",
     "metadata": {},
     "outputs": [
      {
       "metadata": {},
       "output_type": "pyout",
       "png": "[encoded data removed]",
       "prompt_number": 74,
       "text": [
        "<IPython.core.display.Image object>"
       ]
      }
     ],
     "prompt_number": 74
    },
    {
     "cell_type": "markdown",
     "metadata": {},
     "source": [
      "Sia dato il sistema descritto il figura in cui: \n",
      "* **O** rappresenta il centro del subriflettore in posizione 0\n",
      "* **F** rappresenta il fulcro del parboloide\n",
      "* **D** \u00e8 la distanza tra il subriflettore e il fuoco nella posizione 0\n",
      "* $ \\theta = \\widehat{OFP}$ , angolo di rotazione del subriflettore necessario ad inquadrare un feed in vertex\n",
      "* $|FO| = |FP| = \\textbf{D}$\n",
      "\n",
      "Vogliamo trovare le compensazioni **Z** e **X** da applicare al movimento del subriflettore per mantenerlo centrato sull'asse di fuoco senza introdurre errori di puntamento.\n",
      "<hr />"
     ]
    },
    {
     "cell_type": "markdown",
     "metadata": {},
     "source": [
      "Essendo il triangolo $OFP$ isoscele abbiamo che:\n",
      "$$ \\alpha = \\frac{\\pi - \\theta}{2} = \\frac{\\pi}{2} - \\frac{\\theta}{2} $$"
     ]
    },
    {
     "cell_type": "markdown",
     "metadata": {},
     "source": [
      "da cui possiamo ricavare l'ampiezza dell'angolo $\\beta$:\n",
      "$$ \\beta = \\frac{\\pi}{2} - \\alpha = \\frac{\\pi}{2} - \\frac{\\pi}{2} + \\frac{\\theta}{2} = \\frac{\\theta}{2} $$"
     ]
    },
    {
     "cell_type": "markdown",
     "metadata": {},
     "source": [
      "Possiamo quindi calcolare **X** e **Z** sapendo che:\n",
      "$$ |PO| = 2 * (D * \\sin{\\frac{\\theta}{2}}) $$\n",
      "E sfruttando il fatto che $PBO$ \u00e8 rettangolo in $B$:\n",
      "$$ X = |PO| * \\cos{\\beta} = 2 * D * \\sin{\\frac{\\theta}{2}} * \\cos{\\frac{\\theta}{2}} = D* \\sin{\\theta} $$\n",
      "$$ Z = |PO| * \\sin{\\beta} = 2 * D * \\sin{\\frac{\\theta}{2}} * \\sin{\\frac{\\theta}{2}} = 2 * D * (\\sin{\\frac{\\theta}{2}})^2$$"
     ]
    },
    {
     "cell_type": "code",
     "collapsed": false,
     "input": [
      "d, t, z, x = symbols(\"D theta z x\")\n",
      "z = 2 * d * (sin(t/2)**2)\n",
      "x = d * sin(t)"
     ],
     "language": "python",
     "metadata": {},
     "outputs": [],
     "prompt_number": 75
    },
    {
     "cell_type": "markdown",
     "metadata": {},
     "source": [
      "Sapendo che $ D = 310.7mm $ calcolato geometricamente per il subreflettore possiamo calcolare il variare di **X** e **Z** al variare dell'angolo in vertex"
     ]
    },
    {
     "cell_type": "code",
     "collapsed": false,
     "input": [
      "xaxis = linspace(0, radians(8), 1000)\n",
      "xaxis_labels = linspace(0, 8, 1000)\n",
      "#z_at_fixed_d = 2 * 310.7 * np.sin(xaxis/2)**2\n",
      "#x_at_fixed_d = 310.7 * np.sin(xaxis)\n",
      "z_at_fixed_d = array([N(z.subs(d, 310.7).subs(t, _theta)) for _theta in xaxis])\n",
      "x_at_fixed_d = array([N(x.subs(d, 310.7).subs(t, _theta)) for _theta in xaxis])"
     ],
     "language": "python",
     "metadata": {},
     "outputs": [],
     "prompt_number": 76
    },
    {
     "cell_type": "markdown",
     "metadata": {},
     "source": [
      "Dai plot seguenti vediamo come nella posizione 0 del sureflettore una rotazione di un angolo $\\theta$ attorno al fuoco rappresenti una piccola correzione in Z e una pi\u00f9 consistente correzione in X"
     ]
    },
    {
     "cell_type": "code",
     "collapsed": false,
     "input": [
      "pylab.title(\"Z correction at D = 310.7\")\n",
      "pylab.xlabel(\"Theta deg.\")\n",
      "pylab.ylabel(\"Z mm\")\n",
      "pylab.grid(True)\n",
      "pylab.plot(xaxis_labels, z_at_fixed_d, 'b-', \n",
      "           xaxis_labels[500], z_at_fixed_d[500], 'bo', \n",
      "           markersize = 12)"
     ],
     "language": "python",
     "metadata": {},
     "outputs": [
      {
       "metadata": {},
       "output_type": "pyout",
       "prompt_number": 77,
       "text": [
        "[<matplotlib.lines.Line2D at 0x6af3090>,\n",
        " <matplotlib.lines.Line2D at 0x6af3310>]"
       ]
      },
      {
       "metadata": {},
       "output_type": "display_data",
       "png": "[encoded data removed]",
       "text": [
        "<matplotlib.figure.Figure at 0x663e350>"
       ]
      }
     ],
     "prompt_number": 77
    },
    {
     "cell_type": "code",
     "collapsed": false,
     "input": [
      "pylab.title(\"X correction at D = 310.7\")\n",
      "pylab.xlabel(\"Theta deg.\")\n",
      "pylab.ylabel(\"X mm\")\n",
      "pylab.grid(True)\n",
      "pylab.plot(xaxis_labels, x_at_fixed_d, 'g-', \n",
      "           xaxis_labels[500], x_at_fixed_d[500], 'go', \n",
      "           markersize = 12)"
     ],
     "language": "python",
     "metadata": {},
     "outputs": [
      {
       "metadata": {},
       "output_type": "pyout",
       "prompt_number": 78,
       "text": [
        "[<matplotlib.lines.Line2D at 0x6e6e650>,\n",
        " <matplotlib.lines.Line2D at 0x6e6e8d0>]"
       ]
      },
      {
       "metadata": {},
       "output_type": "display_data",
       "png": "[encoded data removed]",
       "text": [
        "<matplotlib.figure.Figure at 0x6110110>"
       ]
      }
     ],
     "prompt_number": 78
    },
    {
     "cell_type": "markdown",
     "metadata": {},
     "source": [
      "Presupponiamo ora di inquadrare un ricevitore con un angolo di $\\theta = 4^{\\circ}$ e di voler effettuare un focheggiamento muovendo il subreflettore verso il ricevitore di una quantit\u00e0 che facciamo variare tra 0 e 18cm, calcolati come $ 3\\lambda  @ 5 GHz$ . Anche in questo caso possiamo controllare il variare delle correzioni applicate in **Z** e **X** al variare della distanza del subreflettore dal fuoco."
     ]
    },
    {
     "cell_type": "code",
     "collapsed": false,
     "input": [
      "xaxis = linspace(0, 180, 1000)\n",
      "z_at_fixed_t = array([N(z.subs(t, radians(4)).subs(d, _d)) for _d in xaxis])\n",
      "x_at_fixed_t = array([N(x.subs(t, radians(4)).subs(d, _d)) for _d in xaxis])"
     ],
     "language": "python",
     "metadata": {},
     "outputs": [],
     "prompt_number": 79
    },
    {
     "cell_type": "code",
     "collapsed": false,
     "input": [
      "pylab.title(\"Z correction at theta = 4 deg.\")\n",
      "pylab.xlabel(\"D mm\")\n",
      "pylab.ylabel(\"Z mm\")\n",
      "pylab.grid(True)\n",
      "pylab.plot(xaxis, z_at_fixed_t, 'b-')"
     ],
     "language": "python",
     "metadata": {},
     "outputs": [
      {
       "metadata": {},
       "output_type": "pyout",
       "prompt_number": 80,
       "text": [
        "[<matplotlib.lines.Line2D at 0x7094d90>]"
       ]
      },
      {
       "metadata": {},
       "output_type": "display_data",
       "png": "[encoded data removed]",
       "text": [
        "<matplotlib.figure.Figure at 0x6b0aad0>"
       ]
      }
     ],
     "prompt_number": 80
    },
    {
     "cell_type": "code",
     "collapsed": false,
     "input": [
      "pylab.title(\"X correction at theta = 4 deg.\")\n",
      "pylab.xlabel(\"D mm\")\n",
      "pylab.ylabel(\"X mm\")\n",
      "pylab.grid(True)\n",
      "pylab.plot(xaxis, x_at_fixed_t, 'g-')"
     ],
     "language": "python",
     "metadata": {},
     "outputs": [
      {
       "metadata": {},
       "output_type": "pyout",
       "prompt_number": 81,
       "text": [
        "[<matplotlib.lines.Line2D at 0x721b7d0>]"
       ]
      },
      {
       "metadata": {},
       "output_type": "display_data",
       "png": "[encoded data removed]",
       "text": [
        "<matplotlib.figure.Figure at 0x6aeaf10>"
       ]
      }
     ],
     "prompt_number": 81
    },
    {
     "cell_type": "heading",
     "level": 1,
     "metadata": {},
     "source": [
      "Tilt del subreflettore"
     ]
    },
    {
     "cell_type": "code",
     "collapsed": false,
     "input": [
      "Image(\"files/tilt_sub2.png\")"
     ],
     "language": "python",
     "metadata": {},
     "outputs": [
      {
       "metadata": {},
       "output_type": "pyout",
       "png": "[encoded data removed]",
       "prompt_number": 82,
       "text": [
        "<IPython.core.display.Image object>"
       ]
      }
     ],
     "prompt_number": 82
    },
    {
     "cell_type": "markdown",
     "metadata": {},
     "source": [
      "Sia dato il sistema in figura in cui:\n",
      "* $AB$ \u00e8 met\u00e0 di un lato del triangolo subreflettore (vista B in Fig. 3.1.2 pag. 90 \"Matematica di sistema\" 4 di 4)\n",
      "* $|AB| = 2068mm / 2 $\n",
      "* $\\varphi$ \u00e8 l'angolo di cui vgliamo ruotare attorno ad un asse il subreflettore\n",
      "* $BC$ rappresenta il posizionamento del subreflettore una volta compiuta la rotazione"
     ]
    },
    {
     "cell_type": "markdown",
     "metadata": {},
     "source": [
      "**NOTA**: *Per semplicit\u00e0 consideriamo il caso di rotazione sull'asse X applicando un angolo $\\theta_y$ che si riflette sul solo movimento di due attuatori. In questo caso sto solo cercando di quantificare un possibile errore.*"
     ]
    },
    {
     "cell_type": "markdown",
     "metadata": {},
     "source": [
      "Ragionando sui triangoli e sfruttando il fatto che $|AB| = |BC|$ possiamo desumere che:\n",
      " * $\\omega = \\Omega$ perch\u00e8 alterni-interni \n",
      "$$ \\Omega = \\omega = \\frac{\\pi - \\varphi}{2} = \\frac{\\pi}{2} - \\frac{\\varphi}{2} $$\n",
      "$$ \\sin{\\Omega} = \\sin{\\omega} = \\cos{\\frac{\\varphi}{2}} $$\n",
      "$$ \\cos{\\Omega} = \\cos{\\omega} = \\sin{\\frac{\\varphi}{2}} $$"
     ]
    },
    {
     "cell_type": "markdown",
     "metadata": {},
     "source": [
      "Ragionando a questo punto sui lati otteniamo che:"
     ]
    },
    {
     "cell_type": "markdown",
     "metadata": {},
     "source": [
      "$$ |AC| = 2*|AB|*\\sin(\\frac{\\varphi}{2}) $$\n",
      "$$ |AE| = |AC| * \\sin{\\omega} = 2*|AB|*\\sin{\\frac{\\varphi}{2}} * \\cos{\\frac{\\varphi}{2}} = 2*|AB|*\\frac{\\sin{\\varphi}}{2} = |AB|*\\sin{\\varphi}$$\n",
      "$$ |EC| = |AC| * \\cos{\\omega} = 2*|AB|*\\sin{\\frac{\\varphi}{2}} * \\sin{\\frac{\\varphi}{2}}  = 2*|AB|*(\\sin{\\frac{\\varphi}{2}})^2 = |AB|*(1 - \\cos{\\varphi}) $$\n",
      "$$ |ED| = |EC| * \\tan{\\varphi} = |AB|* \\tan{\\varphi} - |AB|*\\cos{\\varphi}*\\frac{\\sin{\\varphi}}{\\cos{\\varphi}} = |AB| * (\\tan{\\varphi} - \\sin{\\varphi})$$\n",
      "$$ |AD| = |AB| * \\tan{\\varphi} $$"
     ]
    },
    {
     "cell_type": "markdown",
     "metadata": {},
     "source": [
      "Que e ci interessa \u00e8 che quindi quando noi vogliamo comandare un tilt di $\\varphi$ e diamo come posizione comandata $|AD|$ in realt\u00e0 dovremmo dare un valore di $|AC|$ , per cui:\n",
      "$$ |AD| - |AC| = |AB| * \\tan{\\varphi} - 2*|AB|*\\sin{\\frac{\\varphi}{2}} = |AB|*(\\tan{\\varphi} - 2*\\sin{\\frac{\\varphi}{2}}) $$"
     ]
    },
    {
     "cell_type": "markdown",
     "metadata": {},
     "source": [
      "Fissanso quindi come da ipotesi $|AB| = 2098/2mm$ calcoliamo l'errore al variare di $\\varphi$:"
     ]
    },
    {
     "cell_type": "code",
     "collapsed": false,
     "input": [
      "xaxis = linspace(0, radians(8), 1000)\n",
      "xaxis_labels = linspace(0, 8, 1000)\n",
      "error = (2098/2) * (np.tan(xaxis) - 2*np.sin(xaxis/2))"
     ],
     "language": "python",
     "metadata": {},
     "outputs": [],
     "prompt_number": 83
    },
    {
     "cell_type": "code",
     "collapsed": false,
     "input": [
      "pylab.title(\"Correzione attuatore vs. angolo di tilt\")\n",
      "pylab.xlabel(\"Phi deg.\")\n",
      "pylab.ylabel(\"Error mm\")\n",
      "pylab.grid(True)\n",
      "pylab.plot(xaxis_labels, error, 'b-', \n",
      "           xaxis_labels[500], error[500], 'bo', \n",
      "           markersize = 12)"
     ],
     "language": "python",
     "metadata": {},
     "outputs": [
      {
       "metadata": {},
       "output_type": "pyout",
       "prompt_number": 84,
       "text": [
        "[<matplotlib.lines.Line2D at 0x749d050>,\n",
        " <matplotlib.lines.Line2D at 0x749d2d0>]"
       ]
      },
      {
       "metadata": {},
       "output_type": "display_data",
       "png": "[encoded data removed]",
       "text": [
        "<matplotlib.figure.Figure at 0x7230d50>"
       ]
      }
     ],
     "prompt_number": 84
    },
    {
     "cell_type": "heading",
     "level": 1,
     "metadata": {},
     "source": [
      "Ragionando sulle equazioni degli azionamenti"
     ]
    },
    {
     "cell_type": "markdown",
     "metadata": {},
     "source": [
      "Da \"matematica di sistema\" 4 di 4 pag. 99 prendiamo le equazioni che tengono conto anche della compensazione relativa alla distanza tra il fuoco e il subreflettore:"
     ]
    },
    {
     "cell_type": "markdown",
     "metadata": {},
     "source": [
      "$$ X = -D * \\tan{\\theta_y} $$\n",
      "$$ Y = D * \\frac{\\tan{\\theta_x}}{\\cos{8^{\\circ}}}$$\n",
      "$$ Z_1 = y * \\tan{8^{\\circ}} + z + (r-f)*\\theta_x $$\n",
      "$$ Z_2 = y * \\tan{8^{\\circ}} + z -f*\\theta_x + \\frac{1}{2} * \\theta_y $$\n",
      "$$ Z_3 = y * \\tan{8^{\\circ}} + z -f*\\theta_x - \\frac{1}{2} * \\theta_y $$\n"
     ]
    },
    {
     "cell_type": "markdown",
     "metadata": {},
     "source": [
      "Ragioniamo sul caso semplice di voler effettuare unicamente una rotazione di $4.2^\\circ$ attorno all'asse X per cui poniamo:\n",
      "$$ D = 310.7 $$\n",
      "$$ \\theta_x = 4.2^\\circ $$\n",
      "$$ \\theta_y = 0^\\circ $$\n",
      "$$ y = 0 $$"
     ]
    },
    {
     "cell_type": "markdown",
     "metadata": {},
     "source": [
      "Dalle simulazioni fatte al CAD dovrebbe risultare:\n",
      "$$ X = 0 $$\n",
      "$$ Y = 24.358 $$\n",
      "$$ Z_1 = -88.214 $$\n",
      "$$ Z_2 = 42.881 $$\n",
      "$$ Z_3 = Z_2 = 42.881 $$"
     ]
    },
    {
     "cell_type": "markdown",
     "metadata": {},
     "source": [
      "Mentre applicando le equazioni otteniamo:"
     ]
    },
    {
     "cell_type": "code",
     "collapsed": false,
     "input": [
      "azx, azy, z1, z2, z3 = symbols(\"X Y Z_1 Z_2 Z_3\")\n",
      "d, theta_x, theta_y, x, y, z, r, f = symbols(\"D theta_x theta_y x y z r f\")\n",
      "azx = - d * tan(theta_y)\n",
      "azy = d * tan(theta_x) / cos(radians(8))\n",
      "z1 = y * tan(radians(8)) + z + (r - f) * theta_x\n",
      "z2 = y * tan(radians(8)) + z - f * theta_x + 0.5 * theta_y \n",
      "z3 = y * tan(radians(8)) + z - f * theta_x - 0.5 * theta_y"
     ],
     "language": "python",
     "metadata": {},
     "outputs": [],
     "prompt_number": 85
    },
    {
     "cell_type": "code",
     "collapsed": false,
     "input": [
      "N(azx.subs(d, 310.7).subs(theta_y,radians(0)))"
     ],
     "language": "python",
     "metadata": {},
     "outputs": [
      {
       "latex": [
        "$$0$$"
       ],
       "metadata": {},
       "output_type": "pyout",
       "prompt_number": 86,
       "text": [
        "0"
       ]
      }
     ],
     "prompt_number": 86
    },
    {
     "cell_type": "code",
     "collapsed": false,
     "input": [
      "N(azy.subs(d, 310.7).subs(theta_x,radians(4.2)))"
     ],
     "language": "python",
     "metadata": {},
     "outputs": [
      {
       "latex": [
        "$$23.0406114067913$$"
       ],
       "metadata": {},
       "output_type": "pyout",
       "prompt_number": 87,
       "text": [
        "23.0406114067913"
       ]
      }
     ],
     "prompt_number": 87
    },
    {
     "cell_type": "code",
     "collapsed": false,
     "input": [
      "N(z1.subs(d, 310.7).subs(r, 1791).subs(f, 597).subs(theta_x, radians(4.2)).subs(y,0).subs(z,0))"
     ],
     "language": "python",
     "metadata": {},
     "outputs": [
      {
       "latex": [
        "$$87.5247713290116$$"
       ],
       "metadata": {},
       "output_type": "pyout",
       "prompt_number": 88,
       "text": [
        "87.5247713290116"
       ]
      }
     ],
     "prompt_number": 88
    },
    {
     "cell_type": "code",
     "collapsed": false,
     "input": [
      "N(z2.subs(d, 310.7).subs(r, 1791).subs(f, 597).subs(theta_x, radians(4.2)).subs(y,0).subs(z,0).subs(theta_y,0))"
     ],
     "language": "python",
     "metadata": {},
     "outputs": [
      {
       "latex": [
        "$$-43.7623856645058$$"
       ],
       "metadata": {},
       "output_type": "pyout",
       "prompt_number": 89,
       "text": [
        "-43.7623856645058"
       ]
      }
     ],
     "prompt_number": 89
    },
    {
     "cell_type": "code",
     "collapsed": false,
     "input": [
      "N(z3.subs(d, 310.7).subs(r, 1791).subs(f, 597).subs(theta_x, radians(4.2)).subs(y,0).subs(z,0).subs(theta_y,0))"
     ],
     "language": "python",
     "metadata": {},
     "outputs": [
      {
       "latex": [
        "$$-43.7623856645058$$"
       ],
       "metadata": {},
       "output_type": "pyout",
       "prompt_number": 90,
       "text": [
        "-43.7623856645058"
       ]
      }
     ],
     "prompt_number": 90
    },
    {
     "cell_type": "markdown",
     "metadata": {},
     "source": [
      "A cosa sono dovute queste differenze? Proviamo ad aplicare le correzioni in **Z** e per la rotazione della cerniera precedentemente calcolate."
     ]
    },
    {
     "cell_type": "markdown",
     "metadata": {},
     "source": [
      "Per quanto riguarda la correzione in **Z** avremo che il nuovcentro del subreflettore sar\u00e0 ad una quota **Z** pi\u00f9 alta dello 0, la possiamo ottenere come:\n",
      "$$ Z = 2 * D * (\\sin{\\frac{\\theta}{2}})^2$$"
     ]
    },
    {
     "cell_type": "code",
     "collapsed": false,
     "input": [
      "zn = 2 * 310.7 * (np.sin(np.radians(4.2/2))**2)\n",
      "print zn"
     ],
     "language": "python",
     "metadata": {},
     "outputs": [
      {
       "output_type": "stream",
       "stream": "stdout",
       "text": [
        "0.834391926361\n"
       ]
      }
     ],
     "prompt_number": 91
    },
    {
     "cell_type": "code",
     "collapsed": false,
     "input": [
      "N(z1.subs(d, 310.7).subs(r, 1791).subs(f, 597).subs(theta_x, radians(4.2)).subs(y,0).subs(z,zn))"
     ],
     "language": "python",
     "metadata": {},
     "outputs": [
      {
       "latex": [
        "$$88.3591632553725$$"
       ],
       "metadata": {},
       "output_type": "pyout",
       "prompt_number": 92,
       "text": [
        "88.3591632553725"
       ]
      }
     ],
     "prompt_number": 92
    },
    {
     "cell_type": "code",
     "collapsed": false,
     "input": [
      "N(z2.subs(d, 310.7).subs(r, 1791).subs(f, 597).subs(theta_x, radians(4.2)).subs(y,0).subs(z,zn).subs(theta_y,0))"
     ],
     "language": "python",
     "metadata": {},
     "outputs": [
      {
       "latex": [
        "$$-42.927993738145$$"
       ],
       "metadata": {},
       "output_type": "pyout",
       "prompt_number": 93,
       "text": [
        "-42.9279937381450"
       ]
      }
     ],
     "prompt_number": 93
    },
    {
     "cell_type": "markdown",
     "metadata": {},
     "source": [
      "Gi\u00e0 cos\u00ec possiamo vedere come ci stiamo avvicinando al risultato atteso."
     ]
    }
   ],
   "metadata": {}
  }
 ]
}